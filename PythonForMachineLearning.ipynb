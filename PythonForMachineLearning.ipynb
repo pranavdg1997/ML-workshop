{
 "cells": [
  {
   "cell_type": "code",
   "execution_count": null,
   "metadata": {
    "ExecuteTime": {
     "end_time": "2019-11-19T21:11:47.383539Z",
     "start_time": "2019-11-19T21:11:46.763407Z"
    }
   },
   "outputs": [],
   "source": [
    "#Your best friend in mathematical calulcations, also what makes up a lot of pandas' gut\n",
    "import numpy as np\n",
    "\n",
    "#The go-to tool for data manipulation and pre-processing and probably what you'll use the most\n",
    "import pandas as pd\n",
    "\n",
    "#Cause you need to plot and them muggles only understand graphs\n",
    "import matplotlib.pyplot as plt\n",
    "%matplotlib inline"
   ]
  },
  {
   "cell_type": "code",
   "execution_count": null,
   "metadata": {
    "ExecuteTime": {
     "end_time": "2019-11-19T20:34:38.680908Z",
     "start_time": "2019-11-19T20:34:38.664454Z"
    }
   },
   "outputs": [],
   "source": [
    "from sklearn import datasets\n",
    "diabetes = datasets.load_diabetes()\n",
    "X = diabetes.data\n",
    "Y = diabetes.target\n"
   ]
  },
  {
   "cell_type": "code",
   "execution_count": null,
   "metadata": {
    "ExecuteTime": {
     "end_time": "2019-11-19T22:09:00.566536Z",
     "start_time": "2019-11-19T22:09:00.562547Z"
    }
   },
   "outputs": [],
   "source": [
    "X.shape"
   ]
  },
  {
   "cell_type": "code",
   "execution_count": null,
   "metadata": {
    "ExecuteTime": {
     "end_time": "2019-11-19T21:14:17.281596Z",
     "start_time": "2019-11-19T21:14:17.272001Z"
    }
   },
   "outputs": [],
   "source": [
    "class LinearRegression():\n",
    "    def __init__(self,lr=0.1,epochs=100):\n",
    "        self.lr = lr\n",
    "        self.epochs=epochs\n",
    "        self.loss_history=np.zeros((self.epochs))\n",
    "    \n",
    "    def fit(self,X,Y):\n",
    "        Y = Y.reshape((len(Y),1))\n",
    "        self.b = np.random.randn(1)[0]\n",
    "        self.W = np.random.randn(X.shape[1],1)\n",
    "        m = X.shape[0]\n",
    "        for i in range(0,self.epochs):\n",
    "            \n",
    "            Y_pred = np.matmul(X,self.W) + self.b    \n",
    "            \n",
    "            #updating parameters\n",
    "            self.W = self.W - (self.lr)*self.get_W_grad(X,Y,Y_pred)\n",
    "            self.b = self.b - (self.lr)*self.get_b_grad(X,Y,Y_pred)\n",
    "            \n",
    "            \n",
    "            loss = (1/(2*m))*np.sum((Y-Y_pred)**2)\n",
    "            self.loss_history[i]=loss\n",
    "            #print(\"Epoch number:{} , loss = {}\".format(i,loss))\n",
    "            \n",
    "        print(\"Completed fitting the model\")\n",
    "        \n",
    "    def get_W_grad(self,X,Y,Y_pred):\n",
    "        m = X.shape[0]\n",
    "        W_grad = (1/m)*X.T.dot(Y_pred-Y)\n",
    "        W_grad = W_grad.reshape((X.shape[1],1))\n",
    "        return(W_grad)\n",
    "    \n",
    "    def get_b_grad(self,X,Y,Y_pred):\n",
    "        m = X.shape[0]\n",
    "        b_grad = (1/m)*np.sum(Y-Y_pred)\n",
    "        return(b_grad)\n",
    "    \n",
    "    def plot_loss(self):\n",
    "        plt.plot(self.loss_history)\n",
    "        plt.ylabel('loss')\n",
    "        plt.xlabel('epoch')"
   ]
  },
  {
   "cell_type": "code",
   "execution_count": null,
   "metadata": {
    "ExecuteTime": {
     "end_time": "2019-11-19T21:14:17.546688Z",
     "start_time": "2019-11-19T21:14:17.533521Z"
    },
    "scrolled": true
   },
   "outputs": [],
   "source": [
    "LR = LinearRegression(lr=0.01,epochs=20)\n",
    "LR.fit(X,Y)\n",
    "LR.plot_loss()"
   ]
  },
  {
   "cell_type": "code",
   "execution_count": null,
   "metadata": {
    "ExecuteTime": {
     "end_time": "2019-11-19T21:14:18.851013Z",
     "start_time": "2019-11-19T21:14:18.836881Z"
    }
   },
   "outputs": [],
   "source": [
    "from sklearn.preprocessing import MinMaxScaler\n",
    "mms = MinMaxScaler()\n",
    "X_scaled = mms.fit_transform(X)"
   ]
  },
  {
   "cell_type": "code",
   "execution_count": null,
   "metadata": {
    "ExecuteTime": {
     "end_time": "2019-11-19T21:14:19.513951Z",
     "start_time": "2019-11-19T21:14:19.500927Z"
    }
   },
   "outputs": [],
   "source": [
    "LR = LinearRegression(lr=0.01,epochs=100)\n",
    "LR.fit(X_scaled,Y)"
   ]
  },
  {
   "cell_type": "code",
   "execution_count": null,
   "metadata": {
    "ExecuteTime": {
     "end_time": "2019-11-19T21:14:20.691923Z",
     "start_time": "2019-11-19T21:14:20.583418Z"
    }
   },
   "outputs": [],
   "source": [
    "LR.plot_loss()"
   ]
  },
  {
   "cell_type": "code",
   "execution_count": null,
   "metadata": {
    "ExecuteTime": {
     "end_time": "2019-11-19T21:32:39.201643Z",
     "start_time": "2019-11-19T21:32:39.182356Z"
    }
   },
   "outputs": [],
   "source": [
    "titanic = pd.read_csv(\"titanic.csv\")\n",
    "titanic.head()"
   ]
  },
  {
   "cell_type": "code",
   "execution_count": null,
   "metadata": {
    "ExecuteTime": {
     "end_time": "2019-11-19T21:41:40.001868Z",
     "start_time": "2019-11-19T21:41:39.997172Z"
    }
   },
   "outputs": [],
   "source": [
    "titanic.loc[0,\"pclass\"]"
   ]
  },
  {
   "cell_type": "code",
   "execution_count": null,
   "metadata": {
    "ExecuteTime": {
     "end_time": "2019-11-19T21:42:25.319052Z",
     "start_time": "2019-11-19T21:42:25.301504Z"
    }
   },
   "outputs": [],
   "source": [
    "pclass = titanic.loc[:,\"pclass\"]\n",
    "pclass"
   ]
  },
  {
   "cell_type": "code",
   "execution_count": null,
   "metadata": {
    "ExecuteTime": {
     "end_time": "2019-11-19T21:42:31.533027Z",
     "start_time": "2019-11-19T21:42:31.530003Z"
    }
   },
   "outputs": [],
   "source": [
    "type(pclass)"
   ]
  },
  {
   "cell_type": "code",
   "execution_count": null,
   "metadata": {
    "ExecuteTime": {
     "end_time": "2019-11-19T21:42:57.347494Z",
     "start_time": "2019-11-19T21:42:57.341608Z"
    }
   },
   "outputs": [],
   "source": [
    "type(pclass.values)"
   ]
  },
  {
   "cell_type": "code",
   "execution_count": null,
   "metadata": {
    "ExecuteTime": {
     "end_time": "2019-11-19T21:32:39.463615Z",
     "start_time": "2019-11-19T21:32:39.453953Z"
    }
   },
   "outputs": [],
   "source": [
    "titanic.shape"
   ]
  },
  {
   "cell_type": "code",
   "execution_count": null,
   "metadata": {
    "ExecuteTime": {
     "end_time": "2019-11-19T21:37:38.556022Z",
     "start_time": "2019-11-19T21:37:38.550651Z"
    }
   },
   "outputs": [],
   "source": [
    "titanic.dtypes"
   ]
  },
  {
   "cell_type": "code",
   "execution_count": null,
   "metadata": {
    "ExecuteTime": {
     "end_time": "2019-11-19T21:32:39.787420Z",
     "start_time": "2019-11-19T21:32:39.738241Z"
    }
   },
   "outputs": [],
   "source": [
    "titanic.describe()"
   ]
  },
  {
   "cell_type": "code",
   "execution_count": null,
   "metadata": {
    "ExecuteTime": {
     "end_time": "2019-11-19T21:32:40.018716Z",
     "start_time": "2019-11-19T21:32:39.998542Z"
    }
   },
   "outputs": [],
   "source": [
    "titanic.info()"
   ]
  },
  {
   "cell_type": "code",
   "execution_count": null,
   "metadata": {
    "ExecuteTime": {
     "end_time": "2019-11-19T21:32:40.256129Z",
     "start_time": "2019-11-19T21:32:40.233612Z"
    }
   },
   "outputs": [],
   "source": [
    "titanic.corr().abs()"
   ]
  },
  {
   "cell_type": "code",
   "execution_count": null,
   "metadata": {
    "ExecuteTime": {
     "end_time": "2019-11-19T21:32:40.643387Z",
     "start_time": "2019-11-19T21:32:40.478886Z"
    }
   },
   "outputs": [],
   "source": [
    "titanic[\"sex\"].value_counts()"
   ]
  },
  {
   "cell_type": "code",
   "execution_count": null,
   "metadata": {
    "ExecuteTime": {
     "end_time": "2019-11-19T21:32:40.801817Z",
     "start_time": "2019-11-19T21:32:40.791044Z"
    }
   },
   "outputs": [],
   "source": [
    "titanic.groupby([\"sex\"])[\"survived\"].mean()"
   ]
  },
  {
   "cell_type": "code",
   "execution_count": null,
   "metadata": {
    "ExecuteTime": {
     "end_time": "2019-11-19T21:32:41.177575Z",
     "start_time": "2019-11-19T21:32:41.167576Z"
    }
   },
   "outputs": [],
   "source": [
    "titanic[\"sex\"] = titanic[\"sex\"].map({\"male\":1,\"female\":0})\n",
    "titanic[\"sex\"].value_counts()"
   ]
  },
  {
   "cell_type": "code",
   "execution_count": null,
   "metadata": {
    "ExecuteTime": {
     "end_time": "2019-11-19T21:40:09.892833Z",
     "start_time": "2019-11-19T21:40:09.883303Z"
    }
   },
   "outputs": [],
   "source": [
    "titanic[\"cabin\"].unique()"
   ]
  },
  {
   "cell_type": "code",
   "execution_count": null,
   "metadata": {
    "ExecuteTime": {
     "end_time": "2019-11-19T21:33:45.057627Z",
     "start_time": "2019-11-19T21:33:45.050267Z"
    }
   },
   "outputs": [],
   "source": [
    "titanic[\"cabin\"].value_counts()"
   ]
  },
  {
   "cell_type": "code",
   "execution_count": null,
   "metadata": {
    "ExecuteTime": {
     "end_time": "2019-11-19T21:34:44.636412Z",
     "start_time": "2019-11-19T21:34:44.628266Z"
    }
   },
   "outputs": [],
   "source": [
    "titanic.groupby(\"cabin\")[\"survived\"].mean()"
   ]
  },
  {
   "cell_type": "code",
   "execution_count": null,
   "metadata": {
    "ExecuteTime": {
     "end_time": "2019-11-19T21:38:42.574221Z",
     "start_time": "2019-11-19T21:38:42.560886Z"
    }
   },
   "outputs": [],
   "source": [
    "def detect_C(x):\n",
    "    x = str(x)\n",
    "    if(\"C\" in x):\n",
    "        return(1)\n",
    "    else:\n",
    "        return(0)\n",
    "titanic[\"C_cabin\"] = titanic[\"cabin\"].apply(lambda x:detect_C(x))\n",
    "titanic[\"C_cabin\"].value_counts()"
   ]
  },
  {
   "cell_type": "code",
   "execution_count": null,
   "metadata": {},
   "outputs": [],
   "source": [
    "#make one feature yourself\n"
   ]
  },
  {
   "cell_type": "code",
   "execution_count": null,
   "metadata": {
    "ExecuteTime": {
     "end_time": "2019-11-19T21:40:05.567086Z",
     "start_time": "2019-11-19T21:39:49.243114Z"
    }
   },
   "outputs": [],
   "source": [
    "!pip install pandas_profiling\n",
    "import pandas_profiling\n",
    "titanic.profile_report()"
   ]
  },
  {
   "cell_type": "code",
   "execution_count": null,
   "metadata": {
    "ExecuteTime": {
     "end_time": "2019-11-19T22:04:16.866058Z",
     "start_time": "2019-11-19T22:04:16.853771Z"
    }
   },
   "outputs": [],
   "source": [
    "#we want to include only age,sex,fare,C_cabin and your feature\n",
    "features = [\"age\",\"sex\",\"fare\",\"C_cabin\"]\n",
    "X = titanic.dropna(subset=features).loc[:,features].values\n",
    "Y = titanic.dropna(subset=features)[\"survived\"].values\n",
    "\n"
   ]
  },
  {
   "cell_type": "code",
   "execution_count": null,
   "metadata": {
    "ExecuteTime": {
     "end_time": "2019-11-19T22:04:17.813547Z",
     "start_time": "2019-11-19T22:04:17.809619Z"
    }
   },
   "outputs": [],
   "source": [
    "#Train test split\n",
    "from sklearn.model_selection import train_test_split\n",
    "x_train,x_val,y_train,y_val = train_test_split(X,Y,stratify=Y,shuffle=True)"
   ]
  },
  {
   "cell_type": "code",
   "execution_count": null,
   "metadata": {
    "ExecuteTime": {
     "end_time": "2019-11-19T22:08:00.808567Z",
     "start_time": "2019-11-19T22:08:00.782086Z"
    },
    "scrolled": true
   },
   "outputs": [],
   "source": [
    "#This will an error\n",
    "from sklearn.linear_model import LogisticRegression\n",
    "LR = LogisticRegression(max_iter=100,penalty=\"none\",solver='lbfgs')\n",
    "LR.fit(x_train,y_train)"
   ]
  },
  {
   "cell_type": "code",
   "execution_count": null,
   "metadata": {
    "ExecuteTime": {
     "end_time": "2019-11-19T22:16:18.369019Z",
     "start_time": "2019-11-19T22:16:18.362032Z"
    }
   },
   "outputs": [],
   "source": [
    "y_val_pred = LR.predict(x_val)\n",
    "from sklearn.metrics import accuracy_score\n",
    "accuracy_score(y_val_pred,y_val)"
   ]
  },
  {
   "cell_type": "markdown",
   "metadata": {},
   "source": [
    "## References\n",
    "http://www.shanklab.com/introduction-to-supervised-learning-with-regression/"
   ]
  }
 ],
 "metadata": {
  "kernelspec": {
   "display_name": "Python 3",
   "language": "python",
   "name": "python3"
  },
  "language_info": {
   "codemirror_mode": {
    "name": "ipython",
    "version": 3
   },
   "file_extension": ".py",
   "mimetype": "text/x-python",
   "name": "python",
   "nbconvert_exporter": "python",
   "pygments_lexer": "ipython3",
   "version": "3.6.9"
  }
 },
 "nbformat": 4,
 "nbformat_minor": 2
}
